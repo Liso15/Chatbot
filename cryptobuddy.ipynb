{
 "cells": [
  {
   "cell_type": "markdown",
   "metadata": {},
   "source": [
    "1. Design the Chabot's Personality"
   ]
  },
  {
   "cell_type": "code",
   "execution_count": 1,
   "metadata": {},
   "outputs": [],
   "source": [
    "bot_name = \"CryptoBuddy\"\n",
    "bot_intro = \"Hey there! I’m CryptoBuddy 🤖. Let’s find you a green and growing crypto!\"\n",
    "disclaimer = \" Crypto is risky—always do your own research!\""
   ]
  },
  {
   "cell_type": "markdown",
   "metadata": {},
   "source": [
    "2.Predefined Crypto Data"
   ]
  },
  {
   "cell_type": "code",
   "execution_count": 2,
   "metadata": {},
   "outputs": [],
   "source": [
    "crypto_db = {  \n",
    "    \"Bitcoin\": {  \n",
    "        \"price_trend\": \"rising\",  \n",
    "        \"market_cap\": \"high\",  \n",
    "        \"energy_use\": \"high\",  \n",
    "        \"sustainability_score\": 3/10  \n",
    "    },  \n",
    "    \"Ethereum\": {  \n",
    "        \"price_trend\": \"stable\",  \n",
    "        \"market_cap\": \"high\",  \n",
    "        \"energy_use\": \"medium\",  \n",
    "        \"sustainability_score\": 6/10  \n",
    "    },  \n",
    "    \"Cardano\": {  \n",
    "        \"price_trend\": \"rising\",  \n",
    "        \"market_cap\": \"medium\",  \n",
    "        \"energy_use\": \"low\",  \n",
    "        \"sustainability_score\": 8/10  \n",
    "    }  \n",
    "}"
   ]
  },
  {
   "cell_type": "markdown",
   "metadata": {},
   "source": [
    "3. Chatbot Logic"
   ]
  },
  {
   "cell_type": "code",
   "execution_count": 3,
   "metadata": {},
   "outputs": [],
   "source": [
    "def respond(user_query):\n",
    "    user_query = user_query.lower()\n",
    "    # Sustainability\n",
    "    if \"sustainable\" in user_query or \"eco\" in user_query:\n",
    "        recommend = max(crypto_db, key=lambda x: crypto_db[x][\"sustainability_score\"])\n",
    "        return f\"Invest in {recommend}! 🌱 It’s eco-friendly and has long-term potential!\\n{disclaimer}\"\n",
    "    # Trending up\n",
    "    elif \"trending\" in user_query or \"rising\" in user_query or \"growth\" in user_query:\n",
    "        candidates = [k for k, v in crypto_db.items() if v[\"price_trend\"] == \"rising\"]\n",
    "        if candidates:\n",
    "            # Pick the one with highest sustainability\n",
    "            recommend = max(candidates, key=lambda x: crypto_db[x][\"sustainability_score\"])\n",
    "            return f\"{recommend} is trending up and has a top-tier sustainability score! 🚀\\n{disclaimer}\"\n",
    "        else:\n",
    "            return \"Hmm, I don’t see any coins trending up right now.\"\n",
    "    # Most profitable (rising + high market cap)\n",
    "    elif \"profit\" in user_query or \"profitable\" in user_query:\n",
    "        candidates = [k for k, v in crypto_db.items() if v[\"price_trend\"] == \"rising\" and v[\"market_cap\"] == \"high\"]\n",
    "        if candidates:\n",
    "            recommend = candidates[0]\n",
    "            return f\"{recommend} is rising and has a high market cap! 💰\\n{disclaimer}\"\n",
    "        else:\n",
    "            return \"No highly profitable coins found at the moment.\"\n",
    "    # Default\n",
    "    else:\n",
    "        return \"I’m not sure about that. Try asking about sustainability, trends, or profitability!\""
   ]
  },
  {
   "cell_type": "markdown",
   "metadata": {},
   "source": [
    "5. Test Your Bot"
   ]
  },
  {
   "cell_type": "code",
   "execution_count": 4,
   "metadata": {},
   "outputs": [
    {
     "name": "stdout",
     "output_type": "stream",
     "text": [
      "Hey there! I’m CryptoBuddy 🤖. Let’s find you a green and growing crypto!\n",
      "Cardano is trending up and has a top-tier sustainability score! 🚀\n",
      " Crypto is risky—always do your own research!\n",
      "Invest in Cardano! 🌱 It’s eco-friendly and has long-term potential!\n",
      " Crypto is risky—always do your own research!\n",
      "Cardano is trending up and has a top-tier sustainability score! 🚀\n",
      " Crypto is risky—always do your own research!\n",
      "Bitcoin is rising and has a high market cap! 💰\n",
      " Crypto is risky—always do your own research!\n"
     ]
    }
   ],
   "source": [
    "print(bot_intro)\n",
    "print(respond(\"Which crypto should I buy for long-term growth?\"))\n",
    "print(respond(\"What’s the most sustainable coin?\"))\n",
    "print(respond(\"Which crypto is trending up?\"))\n",
    "print(respond(\"Which is the most profitable?\"))"
   ]
  },
  {
   "cell_type": "code",
   "execution_count": null,
   "metadata": {},
   "outputs": [],
   "source": []
  },
  {
   "cell_type": "code",
   "execution_count": null,
   "metadata": {},
   "outputs": [],
   "source": []
  },
  {
   "cell_type": "code",
   "execution_count": null,
   "metadata": {},
   "outputs": [],
   "source": []
  },
  {
   "cell_type": "code",
   "execution_count": null,
   "metadata": {},
   "outputs": [],
   "source": []
  },
  {
   "cell_type": "code",
   "execution_count": null,
   "metadata": {},
   "outputs": [],
   "source": []
  },
  {
   "cell_type": "code",
   "execution_count": null,
   "metadata": {},
   "outputs": [],
   "source": []
  },
  {
   "cell_type": "code",
   "execution_count": null,
   "metadata": {},
   "outputs": [],
   "source": []
  },
  {
   "cell_type": "code",
   "execution_count": null,
   "metadata": {},
   "outputs": [],
   "source": []
  },
  {
   "cell_type": "code",
   "execution_count": null,
   "metadata": {},
   "outputs": [],
   "source": []
  }
 ],
 "metadata": {
  "kernelspec": {
   "display_name": "Python 3",
   "language": "python",
   "name": "python3"
  },
  "language_info": {
   "codemirror_mode": {
    "name": "ipython",
    "version": 3
   },
   "file_extension": ".py",
   "mimetype": "text/x-python",
   "name": "python",
   "nbconvert_exporter": "python",
   "pygments_lexer": "ipython3",
   "version": "3.13.3"
  }
 },
 "nbformat": 4,
 "nbformat_minor": 2
}
